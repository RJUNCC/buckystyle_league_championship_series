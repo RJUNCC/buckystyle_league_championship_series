{
 "cells": [
  {
   "cell_type": "code",
   "execution_count": 2,
   "metadata": {},
   "outputs": [],
   "source": [
    "import pandas as pd\n",
    "import os"
   ]
  },
  {
   "cell_type": "code",
   "execution_count": 3,
   "metadata": {},
   "outputs": [],
   "source": [
    "pd.set_option('display.max_columns', None)"
   ]
  },
  {
   "cell_type": "code",
   "execution_count": 4,
   "metadata": {},
   "outputs": [],
   "source": [
    "import requests\n",
    "from loguru import logger\n",
    "import json"
   ]
  },
  {
   "cell_type": "code",
   "execution_count": null,
   "metadata": {},
   "outputs": [
    {
     "name": "stderr",
     "output_type": "stream",
     "text": [
      "\u001b[32m2025-03-26 03:43:14.134\u001b[0m | \u001b[1mINFO    \u001b[0m | \u001b[36m__main__\u001b[0m:\u001b[36m<module>\u001b[0m:\u001b[36m22\u001b[0m - \u001b[1mSuccessful\u001b[0m\n"
     ]
    },
    {
     "data": {
      "text/plain": [
       "<Response [204]>"
      ]
     },
     "execution_count": 5,
     "metadata": {},
     "output_type": "execute_result"
    }
   ],
   "source": [
    "import requests\n",
    "import json\n",
    "from loguru import logger\n",
    "\n",
    "try:\n",
    "    # GitHub API endpoint to trigger a workflow\n",
    "    url = \"https://api.github.com/repos/RJUNCC/buckystyle_league_championship_series/actions/workflows/128475690/dispatches\"\n",
    "    headers = {\n",
    "        'Accept': 'application/vnd.github+json',\n",
    "        'Authorization': f'Bearer {os.getenv(\"GITHUB_TOKEN\")}',\n",
    "        'X-GitHub-Api-Version': '2022-11-28',\n",
    "        'Content-Type':'application/json'\n",
    "    }\n",
    "\n",
    "    # JSON payload with ref and event type\n",
    "    data = {\n",
    "        \"ref\": \"main\",\n",
    "    }\n",
    "\n",
    "    response = requests.post(url=url, headers=headers, data=json.dumps(data))\n",
    "    if response.status_code == 204:\n",
    "        logger.info('Successful')\n",
    "    else:\n",
    "        logger.error(f'{response.status_code}')\n",
    "        logger.error('Unsuccessful')\n",
    "except requests.exceptions.HTTPError as errh:\n",
    "    logger.error(f'HTTP Error: {errh}')\n",
    "except requests.exceptions.ConnectionError as errc:\n",
    "    logger.error(f'Error connecting: {errc}')\n",
    "except requests.exceptions.Timeout as errt:\n",
    "    logger.error(f'Timeout Error: {errt}')\n",
    "except requests.exceptions.RequestException as err:\n",
    "    logger.error(f'Something went wrong: {err}')\n",
    "except Exception as e:\n",
    "    logger.error(f'Unexpected error: {str(e)}')\n",
    "\n",
    "response"
   ]
  },
  {
   "cell_type": "code",
   "execution_count": null,
   "metadata": {},
   "outputs": [],
   "source": [
    "    @discord.slash_command(name=\"player_statistics\")\n",
    "    async def player_stats(self, ctx, player: discord.Member):\n",
    "        \"\"\"View statistics for a specific player\"\"\"\n",
    "        try:\n",
    "            df, _ = self.process.process_player_data()\n",
    "            player_stats = df[df['Player'] == player.display_name]\n",
    "            \n",
    "            if player_stats.empty:\n",
    "                return await ctx.respond(f\"No statistics found for {player.display_name}\", ephemeral=True)\n",
    "\n",
    "            embed = discord.Embed(title=f\"Stats for {player.display_name}\", color=discord.Color.blue())\n",
    "            for column in player_stats.columns:\n",
    "                if column != 'Player':\n",
    "                    embed.add_field(name=column, value=player_stats[column].values[0])\n",
    "\n",
    "            await ctx.respond(embed=embed)\n",
    "        except Exception as e:\n",
    "            await ctx.respond(f\"Error retrieving player stats: {str(e)}\", ephemeral=True)\n",
    "\n",
    "    @discord.slash_command(name=\"team_statistics\")\n",
    "    async def team_stats(self, ctx, team_name: str):\n",
    "        \"\"\"View statistics for a specific team\"\"\"\n",
    "        try:\n",
    "            df = self.process.process_team_data()\n",
    "            team_stats = df[df['Team'] == team_name]\n",
    "            \n",
    "            if team_stats.empty:\n",
    "                return await ctx.respond(f\"No statistics found for team {team_name}\", ephemeral=True)\n",
    "\n",
    "            embed = discord.Embed(title=f\"Stats for {team_name}\", color=discord.Color.green())\n",
    "            for column in team_stats.columns:\n",
    "                if column != 'Team':\n",
    "                    embed.add_field(name=column, value=team_stats[column].values[0])\n",
    "\n",
    "            await ctx.respond(embed=embed)\n",
    "        except Exception as e:\n",
    "            await ctx.respond(f\"Error retrieving team stats: {str(e)}\", ephemeral=True)\n",
    "\n",
    "    @discord.slash_command(name=\"stat_leaderboard\")\n",
    "    async def leaderboard(self, ctx, stat: str):\n",
    "        \"\"\"View top players for a specific statistic\"\"\"\n",
    "        try:\n",
    "            df, _ = self.process.process_player_data()\n",
    "            if stat not in df.columns:\n",
    "                return await ctx.respond(f\"Invalid statistic. Choose from: {', '.join(df.columns[1:])}\", ephemeral=True)\n",
    "\n",
    "            top_players = df.sort_values(by=stat, ascending=False).head(10)\n",
    "            \n",
    "            embed = discord.Embed(title=f\"Top Players - {stat}\", color=discord.Color.gold())\n",
    "            for i, (_, player) in enumerate(top_players.iterrows(), 1):\n",
    "                embed.add_field(name=f\"{i}. {player['Player']}\", value=f\"{player[stat]}\", inline=False)\n",
    "\n",
    "            await ctx.respond(embed=embed)\n",
    "        except Exception as e:\n",
    "            await ctx.respond(f\"Error retrieving leaderboard: {str(e)}\", ephemeral=True)"
   ]
  }
 ],
 "metadata": {
  "kernelspec": {
   "display_name": ".venv",
   "language": "python",
   "name": "python3"
  },
  "language_info": {
   "codemirror_mode": {
    "name": "ipython",
    "version": 3
   },
   "file_extension": ".py",
   "mimetype": "text/x-python",
   "name": "python",
   "nbconvert_exporter": "python",
   "pygments_lexer": "ipython3",
   "version": "3.11.9"
  }
 },
 "nbformat": 4,
 "nbformat_minor": 2
}
