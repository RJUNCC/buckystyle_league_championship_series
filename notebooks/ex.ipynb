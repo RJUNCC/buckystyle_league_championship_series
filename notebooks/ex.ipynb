{
 "cells": [
  {
   "cell_type": "code",
   "execution_count": 8,
   "metadata": {},
   "outputs": [],
   "source": [
    "import pandas as pd\n",
    "import os"
   ]
  },
  {
   "cell_type": "code",
   "execution_count": 9,
   "metadata": {},
   "outputs": [],
   "source": [
    "pd.set_option('display.max_columns', None)"
   ]
  },
  {
   "cell_type": "code",
   "execution_count": 10,
   "metadata": {},
   "outputs": [],
   "source": [
    "import requests\n",
    "from loguru import logger\n",
    "import json"
   ]
  },
  {
   "cell_type": "code",
   "execution_count": null,
   "metadata": {},
   "outputs": [
    {
     "name": "stderr",
     "output_type": "stream",
     "text": [
      "\u001b[32m2025-03-26 03:15:40.274\u001b[0m | \u001b[1mINFO    \u001b[0m | \u001b[36m__main__\u001b[0m:\u001b[36m<module>\u001b[0m:\u001b[36m21\u001b[0m - \u001b[1mSuccessful\u001b[0m\n"
     ]
    },
    {
     "data": {
      "text/plain": [
       "<Response [204]>"
      ]
     },
     "execution_count": 25,
     "metadata": {},
     "output_type": "execute_result"
    }
   ],
   "source": [
    "import requests\n",
    "import json\n",
    "from loguru import logger\n",
    "\n",
    "try:\n",
    "    # GitHub API endpoint to trigger a workflow\n",
    "    url = \"https://api.github.com/repos/RJUNCC/buckystyle_league_championship_series/actions/workflows/128475690/dispatches\"\n",
    "    headers = {\n",
    "        'Accept': 'application/vnd.github+json',\n",
    "        'Authorization': f'Bearer {os.getenv(\"GITHUB_TOKEN\")}',\n",
    "        'X-GitHub-Api-Version': '2022-11-28',\n",
    "        'Content-Type':'application/json'\n",
    "    }\n",
    "\n",
    "    # JSON payload with ref and event type\n",
    "    data = {\n",
    "        \"ref\": \"main\",\n",
    "    }\n",
    "\n",
    "    response = requests.post(url=url, headers=headers, data=json.dumps(data))\n",
    "    if response.status_code == 204:\n",
    "        logger.info('Successful')\n",
    "    else:\n",
    "        logger.error(f'{response.status_code}')\n",
    "        logger.error('Unsuccessful')\n",
    "except requests.exceptions.HTTPError as errh:\n",
    "    logger.error(f'HTTP Error: {errh}')\n",
    "except requests.exceptions.ConnectionError as errc:\n",
    "    logger.error(f'Error connecting: {errc}')\n",
    "except requests.exceptions.Timeout as errt:\n",
    "    logger.error(f'Timeout Error: {errt}')\n",
    "except requests.exceptions.RequestException as err:\n",
    "    logger.error(f'Something went wrong: {err}')\n",
    "except Exception as e:\n",
    "    logger.error(f'Unexpected error: {str(e)}')\n",
    "\n",
    "response"
   ]
  },
  {
   "cell_type": "code",
   "execution_count": 12,
   "metadata": {},
   "outputs": [
    {
     "data": {
      "text/html": [
       "<div>\n",
       "<style scoped>\n",
       "    .dataframe tbody tr th:only-of-type {\n",
       "        vertical-align: middle;\n",
       "    }\n",
       "\n",
       "    .dataframe tbody tr th {\n",
       "        vertical-align: top;\n",
       "    }\n",
       "\n",
       "    .dataframe thead th {\n",
       "        text-align: right;\n",
       "    }\n",
       "</style>\n",
       "<table border=\"1\" class=\"dataframe\">\n",
       "  <thead>\n",
       "    <tr style=\"text-align: right;\">\n",
       "      <th></th>\n",
       "    </tr>\n",
       "  </thead>\n",
       "  <tbody>\n",
       "  </tbody>\n",
       "</table>\n",
       "</div>"
      ],
      "text/plain": [
       "Empty DataFrame\n",
       "Columns: []\n",
       "Index: []"
      ]
     },
     "execution_count": 12,
     "metadata": {},
     "output_type": "execute_result"
    }
   ],
   "source": [
    "pd.DataFrame(dict(response.json()).get(\"workflow_runs\")).head()"
   ]
  },
  {
   "cell_type": "code",
   "execution_count": null,
   "metadata": {},
   "outputs": [],
   "source": []
  }
 ],
 "metadata": {
  "kernelspec": {
   "display_name": ".venv",
   "language": "python",
   "name": "python3"
  },
  "language_info": {
   "codemirror_mode": {
    "name": "ipython",
    "version": 3
   },
   "file_extension": ".py",
   "mimetype": "text/x-python",
   "name": "python",
   "nbconvert_exporter": "python",
   "pygments_lexer": "ipython3",
   "version": "3.11.9"
  }
 },
 "nbformat": 4,
 "nbformat_minor": 2
}
